{
 "cells": [
  {
   "cell_type": "markdown",
   "id": "3db7c674",
   "metadata": {},
   "source": [
    "## Data"
   ]
  },
  {
   "cell_type": "code",
   "execution_count": 1,
   "id": "30cc10f0",
   "metadata": {},
   "outputs": [],
   "source": [
    "import pandas as pd"
   ]
  },
  {
   "cell_type": "code",
   "execution_count": 2,
   "id": "32b28a7c",
   "metadata": {},
   "outputs": [],
   "source": [
    "df = pd.read_csv('data/tic_tac_toc.csv')"
   ]
  },
  {
   "cell_type": "code",
   "execution_count": 3,
   "id": "00a8fe40",
   "metadata": {},
   "outputs": [
    {
     "data": {
      "text/html": [
       "<div>\n",
       "<style scoped>\n",
       "    .dataframe tbody tr th:only-of-type {\n",
       "        vertical-align: middle;\n",
       "    }\n",
       "\n",
       "    .dataframe tbody tr th {\n",
       "        vertical-align: top;\n",
       "    }\n",
       "\n",
       "    .dataframe thead th {\n",
       "        text-align: right;\n",
       "    }\n",
       "</style>\n",
       "<table border=\"1\" class=\"dataframe\">\n",
       "  <thead>\n",
       "    <tr style=\"text-align: right;\">\n",
       "      <th></th>\n",
       "      <th>top-left-square</th>\n",
       "      <th>top-middle-square</th>\n",
       "      <th>top-right-square</th>\n",
       "      <th>middle-left-square</th>\n",
       "      <th>middle-middle-square</th>\n",
       "      <th>middle-right-square</th>\n",
       "      <th>bottom-left-square</th>\n",
       "      <th>bottom-middle-square</th>\n",
       "      <th>bottom-right-square</th>\n",
       "      <th>Class</th>\n",
       "    </tr>\n",
       "  </thead>\n",
       "  <tbody>\n",
       "    <tr>\n",
       "      <th>0</th>\n",
       "      <td>b'x'</td>\n",
       "      <td>b'x'</td>\n",
       "      <td>b'x'</td>\n",
       "      <td>b'x'</td>\n",
       "      <td>b'o'</td>\n",
       "      <td>b'o'</td>\n",
       "      <td>b'x'</td>\n",
       "      <td>b'o'</td>\n",
       "      <td>b'o'</td>\n",
       "      <td>b'positive'</td>\n",
       "    </tr>\n",
       "    <tr>\n",
       "      <th>1</th>\n",
       "      <td>b'x'</td>\n",
       "      <td>b'x'</td>\n",
       "      <td>b'x'</td>\n",
       "      <td>b'x'</td>\n",
       "      <td>b'o'</td>\n",
       "      <td>b'o'</td>\n",
       "      <td>b'o'</td>\n",
       "      <td>b'x'</td>\n",
       "      <td>b'o'</td>\n",
       "      <td>b'positive'</td>\n",
       "    </tr>\n",
       "    <tr>\n",
       "      <th>2</th>\n",
       "      <td>b'x'</td>\n",
       "      <td>b'x'</td>\n",
       "      <td>b'x'</td>\n",
       "      <td>b'x'</td>\n",
       "      <td>b'o'</td>\n",
       "      <td>b'o'</td>\n",
       "      <td>b'o'</td>\n",
       "      <td>b'o'</td>\n",
       "      <td>b'x'</td>\n",
       "      <td>b'positive'</td>\n",
       "    </tr>\n",
       "    <tr>\n",
       "      <th>3</th>\n",
       "      <td>b'x'</td>\n",
       "      <td>b'x'</td>\n",
       "      <td>b'x'</td>\n",
       "      <td>b'x'</td>\n",
       "      <td>b'o'</td>\n",
       "      <td>b'o'</td>\n",
       "      <td>b'o'</td>\n",
       "      <td>b'b'</td>\n",
       "      <td>b'b'</td>\n",
       "      <td>b'positive'</td>\n",
       "    </tr>\n",
       "    <tr>\n",
       "      <th>4</th>\n",
       "      <td>b'x'</td>\n",
       "      <td>b'x'</td>\n",
       "      <td>b'x'</td>\n",
       "      <td>b'x'</td>\n",
       "      <td>b'o'</td>\n",
       "      <td>b'o'</td>\n",
       "      <td>b'b'</td>\n",
       "      <td>b'o'</td>\n",
       "      <td>b'b'</td>\n",
       "      <td>b'positive'</td>\n",
       "    </tr>\n",
       "  </tbody>\n",
       "</table>\n",
       "</div>"
      ],
      "text/plain": [
       "  top-left-square top-middle-square top-right-square middle-left-square  \\\n",
       "0            b'x'              b'x'             b'x'               b'x'   \n",
       "1            b'x'              b'x'             b'x'               b'x'   \n",
       "2            b'x'              b'x'             b'x'               b'x'   \n",
       "3            b'x'              b'x'             b'x'               b'x'   \n",
       "4            b'x'              b'x'             b'x'               b'x'   \n",
       "\n",
       "  middle-middle-square middle-right-square bottom-left-square  \\\n",
       "0                 b'o'                b'o'               b'x'   \n",
       "1                 b'o'                b'o'               b'o'   \n",
       "2                 b'o'                b'o'               b'o'   \n",
       "3                 b'o'                b'o'               b'o'   \n",
       "4                 b'o'                b'o'               b'b'   \n",
       "\n",
       "  bottom-middle-square bottom-right-square        Class  \n",
       "0                 b'o'                b'o'  b'positive'  \n",
       "1                 b'x'                b'o'  b'positive'  \n",
       "2                 b'o'                b'x'  b'positive'  \n",
       "3                 b'b'                b'b'  b'positive'  \n",
       "4                 b'o'                b'b'  b'positive'  "
      ]
     },
     "execution_count": 3,
     "metadata": {},
     "output_type": "execute_result"
    }
   ],
   "source": [
    "df.head()"
   ]
  },
  {
   "cell_type": "code",
   "execution_count": 4,
   "id": "efde7cb6",
   "metadata": {},
   "outputs": [
    {
     "name": "stdout",
     "output_type": "stream",
     "text": [
      "<class 'pandas.core.frame.DataFrame'>\n",
      "RangeIndex: 958 entries, 0 to 957\n",
      "Data columns (total 10 columns):\n",
      " #   Column                Non-Null Count  Dtype \n",
      "---  ------                --------------  ----- \n",
      " 0   top-left-square       958 non-null    object\n",
      " 1   top-middle-square     958 non-null    object\n",
      " 2   top-right-square      958 non-null    object\n",
      " 3   middle-left-square    958 non-null    object\n",
      " 4   middle-middle-square  958 non-null    object\n",
      " 5   middle-right-square   958 non-null    object\n",
      " 6   bottom-left-square    958 non-null    object\n",
      " 7   bottom-middle-square  958 non-null    object\n",
      " 8   bottom-right-square   958 non-null    object\n",
      " 9   Class                 958 non-null    object\n",
      "dtypes: object(10)\n",
      "memory usage: 75.0+ KB\n"
     ]
    }
   ],
   "source": [
    "df.info()"
   ]
  },
  {
   "cell_type": "code",
   "execution_count": 5,
   "id": "c789488d",
   "metadata": {},
   "outputs": [
    {
     "data": {
      "text/plain": [
       "b'positive'    65.344468\n",
       "b'negative'    34.655532\n",
       "Name: Class, dtype: float64"
      ]
     },
     "execution_count": 5,
     "metadata": {},
     "output_type": "execute_result"
    }
   ],
   "source": [
    "# win frequency\n",
    "df['Class'].value_counts(normalize = True) * 100"
   ]
  },
  {
   "cell_type": "markdown",
   "id": "9096a658",
   "metadata": {},
   "source": [
    "## Data processing"
   ]
  },
  {
   "cell_type": "code",
   "execution_count": 6,
   "id": "300b7c70",
   "metadata": {},
   "outputs": [],
   "source": [
    "from sklearn.preprocessing import OrdinalEncoder\n",
    "\n",
    "for col in df.columns:\n",
    "    if df[col].dtype == \"object\" :\n",
    "        oe = OrdinalEncoder()\n",
    "        oe.fit(df[[col]])\n",
    "        df[col] = oe.fit_transform(df[[col]])"
   ]
  },
  {
   "cell_type": "code",
   "execution_count": 7,
   "id": "ed35df77",
   "metadata": {},
   "outputs": [
    {
     "data": {
      "text/html": [
       "<div>\n",
       "<style scoped>\n",
       "    .dataframe tbody tr th:only-of-type {\n",
       "        vertical-align: middle;\n",
       "    }\n",
       "\n",
       "    .dataframe tbody tr th {\n",
       "        vertical-align: top;\n",
       "    }\n",
       "\n",
       "    .dataframe thead th {\n",
       "        text-align: right;\n",
       "    }\n",
       "</style>\n",
       "<table border=\"1\" class=\"dataframe\">\n",
       "  <thead>\n",
       "    <tr style=\"text-align: right;\">\n",
       "      <th></th>\n",
       "      <th>top-left-square</th>\n",
       "      <th>top-middle-square</th>\n",
       "      <th>top-right-square</th>\n",
       "      <th>middle-left-square</th>\n",
       "      <th>middle-middle-square</th>\n",
       "      <th>middle-right-square</th>\n",
       "      <th>bottom-left-square</th>\n",
       "      <th>bottom-middle-square</th>\n",
       "      <th>bottom-right-square</th>\n",
       "      <th>Class</th>\n",
       "    </tr>\n",
       "  </thead>\n",
       "  <tbody>\n",
       "    <tr>\n",
       "      <th>0</th>\n",
       "      <td>2.0</td>\n",
       "      <td>2.0</td>\n",
       "      <td>2.0</td>\n",
       "      <td>2.0</td>\n",
       "      <td>1.0</td>\n",
       "      <td>1.0</td>\n",
       "      <td>2.0</td>\n",
       "      <td>1.0</td>\n",
       "      <td>1.0</td>\n",
       "      <td>1.0</td>\n",
       "    </tr>\n",
       "    <tr>\n",
       "      <th>1</th>\n",
       "      <td>2.0</td>\n",
       "      <td>2.0</td>\n",
       "      <td>2.0</td>\n",
       "      <td>2.0</td>\n",
       "      <td>1.0</td>\n",
       "      <td>1.0</td>\n",
       "      <td>1.0</td>\n",
       "      <td>2.0</td>\n",
       "      <td>1.0</td>\n",
       "      <td>1.0</td>\n",
       "    </tr>\n",
       "    <tr>\n",
       "      <th>2</th>\n",
       "      <td>2.0</td>\n",
       "      <td>2.0</td>\n",
       "      <td>2.0</td>\n",
       "      <td>2.0</td>\n",
       "      <td>1.0</td>\n",
       "      <td>1.0</td>\n",
       "      <td>1.0</td>\n",
       "      <td>1.0</td>\n",
       "      <td>2.0</td>\n",
       "      <td>1.0</td>\n",
       "    </tr>\n",
       "    <tr>\n",
       "      <th>3</th>\n",
       "      <td>2.0</td>\n",
       "      <td>2.0</td>\n",
       "      <td>2.0</td>\n",
       "      <td>2.0</td>\n",
       "      <td>1.0</td>\n",
       "      <td>1.0</td>\n",
       "      <td>1.0</td>\n",
       "      <td>0.0</td>\n",
       "      <td>0.0</td>\n",
       "      <td>1.0</td>\n",
       "    </tr>\n",
       "    <tr>\n",
       "      <th>4</th>\n",
       "      <td>2.0</td>\n",
       "      <td>2.0</td>\n",
       "      <td>2.0</td>\n",
       "      <td>2.0</td>\n",
       "      <td>1.0</td>\n",
       "      <td>1.0</td>\n",
       "      <td>0.0</td>\n",
       "      <td>1.0</td>\n",
       "      <td>0.0</td>\n",
       "      <td>1.0</td>\n",
       "    </tr>\n",
       "  </tbody>\n",
       "</table>\n",
       "</div>"
      ],
      "text/plain": [
       "   top-left-square  top-middle-square  top-right-square  middle-left-square  \\\n",
       "0              2.0                2.0               2.0                 2.0   \n",
       "1              2.0                2.0               2.0                 2.0   \n",
       "2              2.0                2.0               2.0                 2.0   \n",
       "3              2.0                2.0               2.0                 2.0   \n",
       "4              2.0                2.0               2.0                 2.0   \n",
       "\n",
       "   middle-middle-square  middle-right-square  bottom-left-square  \\\n",
       "0                   1.0                  1.0                 2.0   \n",
       "1                   1.0                  1.0                 1.0   \n",
       "2                   1.0                  1.0                 1.0   \n",
       "3                   1.0                  1.0                 1.0   \n",
       "4                   1.0                  1.0                 0.0   \n",
       "\n",
       "   bottom-middle-square  bottom-right-square  Class  \n",
       "0                   1.0                  1.0    1.0  \n",
       "1                   2.0                  1.0    1.0  \n",
       "2                   1.0                  2.0    1.0  \n",
       "3                   0.0                  0.0    1.0  \n",
       "4                   1.0                  0.0    1.0  "
      ]
     },
     "execution_count": 7,
     "metadata": {},
     "output_type": "execute_result"
    }
   ],
   "source": [
    "df.head()"
   ]
  },
  {
   "cell_type": "markdown",
   "id": "410f940d",
   "metadata": {},
   "source": [
    "## Train and Test"
   ]
  },
  {
   "cell_type": "code",
   "execution_count": 8,
   "id": "530af755",
   "metadata": {},
   "outputs": [],
   "source": [
    "from sklearn.model_selection import train_test_split\n",
    "\n",
    "X = df.drop('Class', axis = 1)\n",
    "y = df['Class']\n",
    "\n",
    "xtrain, xtest, ytrain, ytest = train_test_split(X, y, test_size = 0.25, random_state = 0)"
   ]
  },
  {
   "cell_type": "markdown",
   "id": "3caf221f",
   "metadata": {},
   "source": [
    "## Training"
   ]
  },
  {
   "cell_type": "code",
   "execution_count": 9,
   "id": "c6261d3e",
   "metadata": {},
   "outputs": [],
   "source": [
    "from sklearn.ensemble import GradientBoostingClassifier\n",
    "\n",
    "gb = GradientBoostingClassifier()\n",
    "\n",
    "gb.fit(xtrain, ytrain)\n",
    "\n",
    "pred = gb.predict(xtest)"
   ]
  },
  {
   "cell_type": "markdown",
   "id": "a3328dc6",
   "metadata": {},
   "source": [
    "## Results"
   ]
  },
  {
   "cell_type": "code",
   "execution_count": 12,
   "id": "c10f5e36",
   "metadata": {},
   "outputs": [
    {
     "name": "stdout",
     "output_type": "stream",
     "text": [
      "Acurácia: 0.933\n",
      "Precision: 0.916\n",
      "Recall: 0.987\n",
      "F1 Score 0.95\n"
     ]
    }
   ],
   "source": [
    "from sklearn.metrics import accuracy_score, precision_score, recall_score, f1_score\n",
    "\n",
    "accuracy = accuracy_score(ytest, pred)\n",
    "precision = precision_score(ytest, pred)\n",
    "recall = recall_score(ytest, pred)\n",
    "f1 = f1_score(ytest, pred)\n",
    "\n",
    "print(f'Acurácia: {accuracy:.3f}')\n",
    "print(f'Precision: {precision:.3f}')\n",
    "print(f'Recall: {recall:.3f}')\n",
    "print(f'F1 Score {f1}')"
   ]
  },
  {
   "cell_type": "markdown",
   "id": "d51816a4",
   "metadata": {},
   "source": [
    "_"
   ]
  }
 ],
 "metadata": {
  "kernelspec": {
   "display_name": "Python 3 (ipykernel)",
   "language": "python",
   "name": "python3"
  },
  "language_info": {
   "codemirror_mode": {
    "name": "ipython",
    "version": 3
   },
   "file_extension": ".py",
   "mimetype": "text/x-python",
   "name": "python",
   "nbconvert_exporter": "python",
   "pygments_lexer": "ipython3",
   "version": "3.9.13"
  }
 },
 "nbformat": 4,
 "nbformat_minor": 5
}
